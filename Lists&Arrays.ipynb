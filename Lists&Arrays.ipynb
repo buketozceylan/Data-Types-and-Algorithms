{
 "cells": [
  {
   "cell_type": "code",
   "execution_count": 1,
   "id": "9cf8d9e1-dc3e-4b26-8f2b-26056d1ec972",
   "metadata": {},
   "outputs": [],
   "source": [
    "#Array, List, Stack, Queue, Deque"
   ]
  },
  {
   "cell_type": "code",
   "execution_count": 3,
   "id": "c938959b-1af3-45e6-9f81-91e3df7f140a",
   "metadata": {},
   "outputs": [],
   "source": [
    "#list\n",
    "myList = [1,2,3,4,5]"
   ]
  },
  {
   "cell_type": "code",
   "execution_count": 4,
   "id": "b240ea31-5b28-449e-9286-0f045f2a75f2",
   "metadata": {},
   "outputs": [
    {
     "data": {
      "text/plain": [
       "list"
      ]
     },
     "execution_count": 4,
     "metadata": {},
     "output_type": "execute_result"
    }
   ],
   "source": [
    "type(myList)"
   ]
  },
  {
   "cell_type": "code",
   "execution_count": 5,
   "id": "0d687ed0-ab54-45b1-adce-093b8137efad",
   "metadata": {},
   "outputs": [],
   "source": [
    "import array as arr"
   ]
  },
  {
   "cell_type": "code",
   "execution_count": 6,
   "id": "9585919d-4f47-44fd-ba0b-e3443e572c88",
   "metadata": {},
   "outputs": [],
   "source": [
    "myArray = arr.array('i', [3,6,9,12])"
   ]
  },
  {
   "cell_type": "code",
   "execution_count": 7,
   "id": "2073cf55-f644-4706-b0f0-3f71aad8a0fe",
   "metadata": {},
   "outputs": [
    {
     "data": {
      "text/plain": [
       "array.array"
      ]
     },
     "execution_count": 7,
     "metadata": {},
     "output_type": "execute_result"
    }
   ],
   "source": [
    "type(myArray)"
   ]
  },
  {
   "cell_type": "code",
   "execution_count": 8,
   "id": "7b32cbbb-4fae-4e95-a73b-f573f823ec25",
   "metadata": {},
   "outputs": [],
   "source": [
    "otherList = [6,7,8]"
   ]
  },
  {
   "cell_type": "code",
   "execution_count": 9,
   "id": "c058380e-90b5-46cf-ae8c-4f1067acd09d",
   "metadata": {},
   "outputs": [],
   "source": [
    "myList.extend(otherList)"
   ]
  },
  {
   "cell_type": "code",
   "execution_count": 10,
   "id": "33ed810c-53b1-4a61-a313-1fa328c78be6",
   "metadata": {},
   "outputs": [
    {
     "data": {
      "text/plain": [
       "[1, 2, 3, 4, 5, 6, 7, 8]"
      ]
     },
     "execution_count": 10,
     "metadata": {},
     "output_type": "execute_result"
    }
   ],
   "source": [
    "myList"
   ]
  },
  {
   "cell_type": "code",
   "execution_count": 12,
   "id": "20c6cfed-be09-47c0-951b-2ac8bbf0501d",
   "metadata": {},
   "outputs": [],
   "source": [
    "import sys"
   ]
  },
  {
   "cell_type": "code",
   "execution_count": 15,
   "id": "418a7095-f30d-486a-ac2c-9aa88c156354",
   "metadata": {},
   "outputs": [
    {
     "name": "stdout",
     "output_type": "stream",
     "text": [
      "Length: 0 Byte: 56\n",
      "Length: 1 Byte: 88\n",
      "Length: 2 Byte: 88\n",
      "Length: 3 Byte: 88\n",
      "Length: 4 Byte: 88\n",
      "Length: 5 Byte: 120\n",
      "Length: 6 Byte: 120\n",
      "Length: 7 Byte: 120\n",
      "Length: 8 Byte: 120\n",
      "Length: 9 Byte: 184\n",
      "Length: 10 Byte: 184\n",
      "Length: 11 Byte: 184\n",
      "Length: 12 Byte: 184\n",
      "Length: 13 Byte: 184\n",
      "Length: 14 Byte: 184\n",
      "Length: 15 Byte: 184\n",
      "Length: 16 Byte: 184\n",
      "Length: 17 Byte: 248\n",
      "Length: 18 Byte: 248\n",
      "Length: 19 Byte: 248\n",
      "Length: 20 Byte: 248\n",
      "Length: 21 Byte: 248\n",
      "Length: 22 Byte: 248\n",
      "Length: 23 Byte: 248\n",
      "Length: 24 Byte: 248\n",
      "Length: 25 Byte: 312\n",
      "Length: 26 Byte: 312\n",
      "Length: 27 Byte: 312\n",
      "Length: 28 Byte: 312\n",
      "Length: 29 Byte: 312\n"
     ]
    }
   ],
   "source": [
    "n = 30\n",
    "myDynamicArray = []\n",
    "\n",
    "for i in range(n):\n",
    "    myLength = len(myDynamicArray)\n",
    "    myByte = sys.getsizeof(myDynamicArray) #gives how much space is allocated in memory\n",
    "    print(f'Length: {myLength} Byte: {myByte}')\n",
    "    myDynamicArray.append(n)\n",
    "    \n",
    "    "
   ]
  },
  {
   "cell_type": "code",
   "execution_count": null,
   "id": "88ceb0cb-d68b-469c-8803-695acac7e091",
   "metadata": {},
   "outputs": [],
   "source": []
  }
 ],
 "metadata": {
  "kernelspec": {
   "display_name": "Python [conda env:base] *",
   "language": "python",
   "name": "conda-base-py"
  },
  "language_info": {
   "codemirror_mode": {
    "name": "ipython",
    "version": 3
   },
   "file_extension": ".py",
   "mimetype": "text/x-python",
   "name": "python",
   "nbconvert_exporter": "python",
   "pygments_lexer": "ipython3",
   "version": "3.13.5"
  }
 },
 "nbformat": 4,
 "nbformat_minor": 5
}
