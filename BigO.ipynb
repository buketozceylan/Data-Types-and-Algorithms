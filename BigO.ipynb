{
 "cells": [
  {
   "cell_type": "code",
   "execution_count": 3,
   "id": "aadda280-6f65-4b25-af2b-706c3f61bd73",
   "metadata": {},
   "outputs": [],
   "source": [
    "# Big O Notation -> o()\n",
    "#Time Complexity - Space Complexity"
   ]
  },
  {
   "cell_type": "code",
   "execution_count": 4,
   "id": "9c3ed5ee-d571-412d-87c7-8af25544bd52",
   "metadata": {},
   "outputs": [],
   "source": [
    "def bigon(n):\n",
    "    for i in range(0,n):\n",
    "        print(i)"
   ]
  },
  {
   "cell_type": "code",
   "execution_count": 5,
   "id": "0b76895d-4677-437c-a077-41587fa688ce",
   "metadata": {},
   "outputs": [
    {
     "name": "stdout",
     "output_type": "stream",
     "text": [
      "0\n",
      "1\n",
      "2\n",
      "3\n",
      "4\n",
      "5\n",
      "6\n",
      "7\n",
      "8\n",
      "9\n"
     ]
    }
   ],
   "source": [
    "bigon(10)"
   ]
  },
  {
   "cell_type": "code",
   "execution_count": 6,
   "id": "247d2dd4-13d6-4d09-8f46-b8be6a312bfa",
   "metadata": {},
   "outputs": [],
   "source": [
    "def bigon2(n):\n",
    "    for i in range(0,n):\n",
    "        for j in range(0,n):\n",
    "            print(i,j)"
   ]
  },
  {
   "cell_type": "code",
   "execution_count": 8,
   "id": "44e63994-659f-406c-96a7-23e739ce9a6f",
   "metadata": {},
   "outputs": [
    {
     "name": "stdout",
     "output_type": "stream",
     "text": [
      "0 0\n",
      "0 1\n",
      "0 2\n",
      "0 3\n",
      "1 0\n",
      "1 1\n",
      "1 2\n",
      "1 3\n",
      "2 0\n",
      "2 1\n",
      "2 2\n",
      "2 3\n",
      "3 0\n",
      "3 1\n",
      "3 2\n",
      "3 3\n"
     ]
    }
   ],
   "source": [
    "bigon2(4)"
   ]
  },
  {
   "cell_type": "code",
   "execution_count": 10,
   "id": "fce08f84-ea39-455f-a954-9d588dcb1595",
   "metadata": {},
   "outputs": [],
   "source": [
    "import math\n",
    "def logn(n):\n",
    "    while n>1:\n",
    "        n = math.floor(n/2)\n",
    "        print(n)"
   ]
  },
  {
   "cell_type": "code",
   "execution_count": 11,
   "id": "14c80714-a0d9-43c2-bcc1-0d8b73e2960e",
   "metadata": {},
   "outputs": [
    {
     "name": "stdout",
     "output_type": "stream",
     "text": [
      "2\n",
      "1\n"
     ]
    }
   ],
   "source": [
    "logn(5)"
   ]
  },
  {
   "cell_type": "code",
   "execution_count": 12,
   "id": "0a581305-131a-4550-88fa-e713599d528d",
   "metadata": {},
   "outputs": [
    {
     "name": "stdout",
     "output_type": "stream",
     "text": [
      "150\n",
      "75\n",
      "37\n",
      "18\n",
      "9\n",
      "4\n",
      "2\n",
      "1\n"
     ]
    }
   ],
   "source": [
    "logn(300)"
   ]
  },
  {
   "cell_type": "code",
   "execution_count": 13,
   "id": "93fd89aa-606b-4d13-ac05-709332935614",
   "metadata": {},
   "outputs": [],
   "source": [
    "def nlogn(n):\n",
    "    lim = n\n",
    "    while n > 1:\n",
    "        n = math.floor(n/2)\n",
    "        for i in range(1,lim):\n",
    "            print(i)"
   ]
  },
  {
   "cell_type": "code",
   "execution_count": 14,
   "id": "b7b509b0-be17-41e1-89c1-46616ae175b3",
   "metadata": {},
   "outputs": [
    {
     "name": "stdout",
     "output_type": "stream",
     "text": [
      "1\n",
      "2\n",
      "3\n",
      "1\n",
      "2\n",
      "3\n"
     ]
    }
   ],
   "source": [
    "nlogn(4)"
   ]
  },
  {
   "cell_type": "code",
   "execution_count": 18,
   "id": "4c7a3c58-e455-45d8-8a31-ea1cba5f6835",
   "metadata": {},
   "outputs": [],
   "source": [
    " def nfactorial(n):\n",
    "     if n == 0:\n",
    "         print(\"1\")\n",
    "         return\n",
    "     else:\n",
    "         for i in range (0,n):\n",
    "             print(i)\n",
    "             nfactorial(n-1) #Recursive"
   ]
  },
  {
   "cell_type": "code",
   "execution_count": 19,
   "id": "73ab9277-1478-45ba-ace2-ea05f56d5227",
   "metadata": {},
   "outputs": [
    {
     "name": "stdout",
     "output_type": "stream",
     "text": [
      "0\n",
      "0\n",
      "1\n",
      "1\n",
      "0\n",
      "1\n"
     ]
    }
   ],
   "source": [
    "nfactorial(2)"
   ]
  },
  {
   "cell_type": "code",
   "execution_count": null,
   "id": "15bcb886-90b6-4b37-b383-967ebc25a110",
   "metadata": {},
   "outputs": [],
   "source": [
    "[10,30,40,10] #O(n)"
   ]
  }
 ],
 "metadata": {
  "kernelspec": {
   "display_name": "Python [conda env:base] *",
   "language": "python",
   "name": "conda-base-py"
  },
  "language_info": {
   "codemirror_mode": {
    "name": "ipython",
    "version": 3
   },
   "file_extension": ".py",
   "mimetype": "text/x-python",
   "name": "python",
   "nbconvert_exporter": "python",
   "pygments_lexer": "ipython3",
   "version": "3.13.5"
  }
 },
 "nbformat": 4,
 "nbformat_minor": 5
}
